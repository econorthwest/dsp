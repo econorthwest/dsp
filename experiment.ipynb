{
 "cells": [
  {
   "cell_type": "markdown",
   "metadata": {
    "deletable": true,
    "editable": true
   },
   "source": [
    "# Setup"
   ]
  },
  {
   "cell_type": "code",
   "execution_count": null,
   "metadata": {
    "collapsed": false,
    "deletable": true,
    "editable": true
   },
   "outputs": [],
   "source": [
    "%load_ext autoreload\n",
    "%autoreload 2"
   ]
  },
  {
   "cell_type": "code",
   "execution_count": null,
   "metadata": {
    "collapsed": false,
    "deletable": true,
    "editable": true
   },
   "outputs": [],
   "source": [
    "import os\n",
    "import pandas as pd\n",
    "import re\n",
    "from collections import namedtuple\n",
    "from copy import deepcopy\n",
    "\n",
    "from proforma.hbu import HBU\n",
    "from proforma.parcels import Parcel\n",
    "from proforma import prototypes"
   ]
  },
  {
   "cell_type": "code",
   "execution_count": null,
   "metadata": {
    "collapsed": false,
    "deletable": true,
    "editable": true
   },
   "outputs": [],
   "source": [
    "parcels = pd.read_excel('./data/parcels.xlsx')"
   ]
  },
  {
   "cell_type": "code",
   "execution_count": null,
   "metadata": {
    "collapsed": false,
    "deletable": true,
    "editable": true
   },
   "outputs": [],
   "source": [
    "parcel = Parcel(**parcels.loc[1].to_dict())"
   ]
  },
  {
   "cell_type": "markdown",
   "metadata": {},
   "source": [
    "# Prototypes"
   ]
  },
  {
   "cell_type": "code",
   "execution_count": null,
   "metadata": {
    "collapsed": false
   },
   "outputs": [],
   "source": [
    "PROTOTYPE_DATA = {\n",
    "    'office': pd.read_excel('./data/prototypes/office.xlsx'),\n",
    "    'retail': pd.read_excel('./data/prototypes/retail.xlsx'),\n",
    "    'wd': pd.read_excel('./data/prototypes/wd.xlsx'),\n",
    "    'flex': pd.read_excel('./data/prototypes/flex.xlsx'),\n",
    "    'residential_rental': pd.read_excel('./data/prototypes/residential_rental.xlsx'),\n",
    "    'residential_ownership': pd.read_excel('./data/prototypes/residential_ownership.xlsx')\n",
    "}\n",
    "\n",
    "PROTOTYPE_CLASSES = {\n",
    "    'office': prototypes.OfficePrototype,\n",
    "    'retail': prototypes.RetailPrototype,\n",
    "    'wd': prototypes.WDPrototype,\n",
    "    'flex': prototypes.FlexPrototype,\n",
    "    'residential_rental': prototypes.ResidentialRentalPrototype,\n",
    "    'residential_ownership': prototypes.ResidentialOwnershipPrototype\n",
    "}"
   ]
  },
  {
   "cell_type": "code",
   "execution_count": null,
   "metadata": {
    "collapsed": false
   },
   "outputs": [],
   "source": [
    "PROTOTYPES = []\n",
    "\n",
    "for style, df in PROTOTYPE_DATA.items():\n",
    "    for _, row in df.iterrows():\n",
    "        prototype = PROTOTYPE_CLASSES[style](**row.to_dict())\n",
    "        PROTOTYPES.append(prototype)"
   ]
  },
  {
   "cell_type": "markdown",
   "metadata": {},
   "source": [
    "# Entitlement screen"
   ]
  },
  {
   "cell_type": "code",
   "execution_count": null,
   "metadata": {
    "collapsed": true
   },
   "outputs": [],
   "source": [
    "entitlement_screen = pd.read_excel('./data/entitlement_screen.xlsx', index_col='Zone Class')"
   ]
  },
  {
   "cell_type": "markdown",
   "metadata": {},
   "source": [
    "# Limiting factor"
   ]
  },
  {
   "cell_type": "code",
   "execution_count": null,
   "metadata": {
    "collapsed": true
   },
   "outputs": [],
   "source": [
    "# lf = pd.read_excel('./data/limiting_factor.xlsx')"
   ]
  },
  {
   "cell_type": "markdown",
   "metadata": {},
   "source": [
    "# Run"
   ]
  },
  {
   "cell_type": "code",
   "execution_count": null,
   "metadata": {
    "collapsed": false
   },
   "outputs": [],
   "source": [
    "hbu = HBU(parcel, PROTOTYPES, entitlement_screen)"
   ]
  }
 ],
 "metadata": {
  "kernelspec": {
   "display_name": "Python 3",
   "language": "python",
   "name": "python3"
  },
  "language_info": {
   "codemirror_mode": {
    "name": "ipython",
    "version": 3
   },
   "file_extension": ".py",
   "mimetype": "text/x-python",
   "name": "python",
   "nbconvert_exporter": "python",
   "pygments_lexer": "ipython3",
   "version": "3.6.0"
  }
 },
 "nbformat": 4,
 "nbformat_minor": 2
}
